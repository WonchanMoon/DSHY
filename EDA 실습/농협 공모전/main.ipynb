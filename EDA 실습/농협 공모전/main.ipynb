{
 "cells": [
  {
   "cell_type": "markdown",
   "metadata": {},
   "source": [
    "# 중요!!!!!!! 데이터 프레임 출력한거 있으면 지우고 업데이트!!"
   ]
  },
  {
   "cell_type": "code",
   "execution_count": 1,
   "metadata": {},
   "outputs": [],
   "source": [
    "import numpy as np\n",
    "import pandas as pd\n",
    "from tqdm import tqdm\n",
    "\n",
    "import pickle\n",
    "\n",
    "# pd.set_option('display.max_columns', None) ## 모든 열 출력\n",
    "# pd.set_option('display.max_rows', None) ## 모든 행 출력"
   ]
  },
  {
   "cell_type": "markdown",
   "metadata": {},
   "source": [
    "# 데이터 불러오기"
   ]
  },
  {
   "cell_type": "code",
   "execution_count": 2,
   "metadata": {},
   "outputs": [],
   "source": [
    "해외종목정보 = pd.read_csv(\"NH_CONTEST_NW_FC_STK_IEM_IFO.csv\", encoding=\"EUC-KR\", skipinitialspace=True)\n",
    "종목일자별시세 = pd.read_csv(\"NH_CONTEST_STK_DT_QUT.csv\", encoding=\"EUC-KR\", skipinitialspace=True)\n",
    "주식일별정보 = pd.read_csv(\"NH_CONTEST_NHDATA_STK_DD_IFO.csv\", encoding=\"EUC-KR\", skipinitialspace=True)\n",
    "매수매도계좌정보 = pd.read_csv(\"NH_CONTEST_NHDATA_IFW_OFW_IFO.csv\", encoding=\"EUC-KR\", skipinitialspace=True)\n",
    "고객보유정보 = pd.read_csv(\"NH_CONTEST_NHDATA_CUS_TP_IFO.csv\", encoding=\"EUC-KR\", skipinitialspace=True)\n",
    "ETF구성종목정보 = pd.read_csv(\"NH_CONTEST_DATA_ETF_HOLDINGS.csv\", encoding=\"EUC-KR\", skipinitialspace=True)\n",
    "ETF배당내역 = pd.read_csv(\"NH_CONTEST_DATA_HISTORICAL_DIVIDEND.csv\", encoding=\"EUC-KR\", skipinitialspace=True)\n",
    "ETF점수정보 = pd.read_csv(\"NH_CONTEST_ETF_SOR_IFO.csv\", encoding=\"EUC-KR\", skipinitialspace=True)\n",
    "\n",
    "data_name = [\"해외종목정보\", \"종목일자별시세\", \"주식일별정보\", \"매수매도계좌정보\", \"고객보유정보\", \"ETF구성종목정보\", \"ETF배당내역\", \"ETF점수정보\"]"
   ]
  },
  {
   "cell_type": "code",
   "execution_count": 3,
   "metadata": {},
   "outputs": [],
   "source": [
    "# 변수명 변경 + 공백제거\n",
    "해외종목정보.columns = [\"티커종목코드\", \"외화증권한글명\", \"외화증권영문명\", \"주식/ETF구분코드\",\n",
    "                   \"상장주식총수량\", \"외화시장구분코드\", \"회사주소\", \"웹주소\", \"업종분류명\",\n",
    "                   \"CEO명\", \"영문사업개요내용\", \"섹터분류명\", \"산업명\", \"시가총액\"]\n",
    "해외종목정보 = 해외종목정보.map(lambda x: x.strip() if isinstance(x, str) else x)\n",
    "\n",
    "종목일자별시세.columns = [\"거래일자\", \"티커종목코드\", \"종목시가\", \"종목고가\", \"종목저가\",\n",
    "                   \"종목종가\", \"전일대비증감가격\", \"전일대비증감율\", \"누적거래수량\",\n",
    "                   \"거래대금\", \"매도체결합계수량\", \"매수체결합계수량\", \"환율\"]\n",
    "종목일자별시세 = 종목일자별시세.map(lambda x: x.strip() if isinstance(x, str) else x)\n",
    "\n",
    "주식일별정보.columns = [\"거래일자\", \"티커종목코드\", \"총보유계좌수\", \"총보유수량\",\n",
    "                   \"당사평균보유수량\", \"당사평균보유비중비율\", \"당사평균평가손익\",\n",
    "                   \"당사평균매입단가\", \"당사평균수익율\", \"당사평균보유기간일수\",\n",
    "                   \"분포상위10퍼센트수치\", \"분포상위30퍼센트수치\", \"분포상위50퍼센트수치\",\n",
    "                   \"분포상위70퍼센트수치\", \"분포상위90퍼센트수치\", \"기준종가\", \"손실투자자비율\",\n",
    "                   \"수익투자자비율\", \"신규매수계좌수\", \"전량매도계좌수\", \"종목조회건수\",\n",
    "                   \"관심종목등록건수\"]\n",
    "주식일별정보 = 주식일별정보.map(lambda x: x.strip() if isinstance(x, str) else x)\n",
    "\n",
    "매수매도계좌정보.columns = [\"기준일자\", \"티커종목코드\", \"유입/유출구분코드\", \"유입유출티커코드\",\n",
    "                    \"유입유출금액비중\", \"유입유출랭크\"]\n",
    "매수매도계좌정보 = 매수매도계좌정보.map(lambda x: x.strip() if isinstance(x, str) else x)\n",
    "\n",
    "고객보유정보.columns = [\"기준일자\", \"티커종목코드\", \"고객구성대분류코드\", \"고객구성중분류코드\",\n",
    "                  \"고객구성계좌수비율\", \"고객구성투자비율\"]\n",
    "고객보유정보 = 고객보유정보.map(lambda x: x.strip() if isinstance(x, str) else x)\n",
    "\n",
    "ETF구성종목정보.columns = [\"대상ETF티커\", \"ETF개별구성종목티커\", \"보유종목의가치(USD)\", \"보유종목의영문명\", \"보유종목의한글명\",\n",
    "                     \"보유종목의주수(주)\", \"보유종목의비중(%)\", \"보유종목의타입(ST:주식,EF:ETF,EN:ETN,SSEF:Single-StockETF)\"]\n",
    "ETF구성종목정보 = ETF구성종목정보.map(lambda x: x.strip() if isinstance(x, str) else x)\n",
    "\n",
    "ETF배당내역.columns = [\"대상ETF티커\", \"배당락일(YYYYMMDD)\", \"배당금\", \"수정배당금\", \"배당기준일(YYYYMMDD)\",\n",
    "                   \"지급일(YYYYMMDD)\", \"공시일(YYYYMMDD)\", \"배당주기(Quarterly:분기배당,Weekly:주배당,Monthly:월배당,SemiAnnual:반기배당,Annual:연배당,Other:알수없음)\"]\n",
    "ETF배당내역 = ETF배당내역.map(lambda x: x.strip() if isinstance(x, str) else x)\n",
    "\n",
    "ETF점수정보.columns = [\"거래일자\", \"대상ETF티커\", \"1개월총수익율\", \"3개월총수익율\",\n",
    "                   \"1년총수익율\", \"ETF점수\", \"ETFZ점수\", \"Z점수순위\",\n",
    "                   \"누적수익율Z점수\", \"정보비율Z점수\", \"샤프지수Z점수\", \"상관관계Z점수\",\n",
    "                   \"트래킹에러Z점수\", \"최대낙폭Z점수\", \"변동성Z점수\"]\n",
    "ETF점수정보 = ETF점수정보.map(lambda x: x.strip() if isinstance(x, str) else x)"
   ]
  },
  {
   "cell_type": "markdown",
   "metadata": {},
   "source": [
    "# EDA"
   ]
  },
  {
   "cell_type": "code",
   "execution_count": 346,
   "metadata": {},
   "outputs": [
    {
     "name": "stdout",
     "output_type": "stream",
     "text": [
      "주식/ETF구분코드\n",
      "주식     2929\n",
      "ETF     167\n",
      "Name: count, dtype: int64\n",
      "1\n"
     ]
    },
    {
     "data": {
      "text/plain": [
       "(167,)"
      ]
     },
     "execution_count": 346,
     "metadata": {},
     "output_type": "execute_result"
    }
   ],
   "source": [
    "print(해외종목정보[\"주식/ETF구분코드\"].value_counts())\n",
    "print((해외종목정보[\"티커종목코드\"] == \"AAPB\").sum()) # AAPL 2배 레버리지 SSEF\n",
    "해외종목정보[해외종목정보[\"주식/ETF구분코드\"] == \"ETF\"][\"티커종목코드\"].unique().shape \n",
    "\n",
    "\n",
    "# ETF가 SSEF와 구분되어있지 않음\n",
    "# ETF 167 종목"
   ]
  },
  {
   "cell_type": "code",
   "execution_count": 347,
   "metadata": {},
   "outputs": [
    {
     "data": {
      "text/plain": [
       "array(['NYSE', 'NASD', '-'], dtype=object)"
      ]
     },
     "execution_count": 347,
     "metadata": {},
     "output_type": "execute_result"
    }
   ],
   "source": [
    "해외종목정보[\"외화시장구분코드\"].unique()"
   ]
  },
  {
   "cell_type": "code",
   "execution_count": 123,
   "metadata": {},
   "outputs": [
    {
     "name": "stdout",
     "output_type": "stream",
     "text": [
      "['AIYY' 'CIBR' 'DIA' 'DIV' 'IHI' 'IJR' 'JEPI' 'KLIP' 'KRE' 'MOAT' 'MSOS'\n",
      " 'NVDY' 'VTI' 'XBI' 'XLF' 'XLU' 'DGRO' 'DIVO' 'MGK' 'QQQ' 'SCHD' 'SPYV'\n",
      " 'VIG' 'AWAY' 'DGRW' 'EETH' 'FBY' 'IBB' 'IVV' 'IWM' 'JEPQ' 'NOBL' 'RYLD'\n",
      " 'SKYY' 'SOXQ' 'SOXX' 'SPY' 'SPYD' 'XLK' 'XLP' 'XLV' 'AMZY' 'APLY' 'GOOY'\n",
      " 'IJH' 'ITA' 'OARK' 'QQQM' 'SMH' 'SPHD' 'SPLG' 'SPYG' 'TSLY' 'VOO' 'VYM']\n",
      "(55,)\n"
     ]
    }
   ],
   "source": [
    "print(ETF점수정보[\"대상ETF티커\"].unique())\n",
    "print(ETF점수정보[\"대상ETF티커\"].unique().shape)\n",
    "\n",
    "# ETF 55종목"
   ]
  },
  {
   "cell_type": "code",
   "execution_count": 44,
   "metadata": {},
   "outputs": [
    {
     "data": {
      "text/plain": [
       "array(['ST', 'EF', '-', 'RT'], dtype=object)"
      ]
     },
     "execution_count": 44,
     "metadata": {},
     "output_type": "execute_result"
    }
   ],
   "source": [
    "ETF구성종목정보[\"보유종목의타입(ST:주식,EF:ETF,EN:ETN,SSEF:Single-StockETF)\"].unique()\n",
    "\n",
    "# 타입이 4종류?"
   ]
  },
  {
   "cell_type": "code",
   "execution_count": 61,
   "metadata": {},
   "outputs": [
    {
     "name": "stdout",
     "output_type": "stream",
     "text": [
      "['AAPB', 'AAPU', 'AIQ', 'AMDL', 'AMZU', 'AOR', 'ARKF', 'ARKG', 'ARKK', 'ARKQ', 'ARKW', 'ARKX', 'AWAY', 'BOTZ', 'CIBR', 'CLOU', 'CONL', 'COPX', 'CWEB', 'DFEN', 'DGRO', 'DGRW', 'DIA', 'DIV', 'DIVO', 'DPST', 'DRIV', 'FAS', 'FBL', 'GDX', 'GGLL', 'GPIQ', 'GPIX', 'GRID', 'HDRO', 'IBB', 'ICLN', 'IEMG', 'IHI', 'ITA', 'IVV', 'IWM', 'JEPI', 'JEPQ', 'JETS', 'KBWY', 'KLIP', 'KORU', 'KRBN', 'LABU', 'LIT', 'METV', 'MGK', 'MOAT', 'MSFU', 'MSOX', 'NAIL', 'NOBL', 'NUSI', 'NVD', 'NVDL', 'NVDU', 'PAVE', 'PFF', 'PGX', 'QCLN', 'QLD', 'QQQ', 'QQQM', 'QYLD', 'RETL', 'RPAR', 'RYLD', 'SCHD', 'SDIV', 'SKYY', 'SMH', 'SOXL', 'SOXQ', 'SOXX', 'SPHD', 'SPLG', 'SPXL', 'SPY', 'SPYD', 'SPYG', 'SPYV', 'SSO', 'SVOL', 'TAN', 'TECL', 'TLTW', 'TMF', 'TNA', 'TQQQ', 'TSL', 'TSLL', 'UDOW', 'UPRO', 'URA', 'URTY', 'USD', 'VEA', 'VIG', 'VNQ', 'VOO', 'VT', 'VTI', 'VWO', 'VYM', 'WEBL', 'XBI', 'XLE', 'XLF', 'XLK', 'XLP', 'XLRE', 'XLU', 'XLV', 'XYLD', 'YINN', 'YMAX']\n",
      "(122,)\n"
     ]
    }
   ],
   "source": [
    "print(sorted(ETF구성종목정보[\"대상ETF티커\"].unique()))\n",
    "print(ETF구성종목정보[\"대상ETF티커\"].unique().shape)\n",
    "\n",
    "# ETF 122개"
   ]
  },
  {
   "cell_type": "markdown",
   "metadata": {},
   "source": [
    "# 거래일자, 고객 중분류 딕셔너리 코드"
   ]
  },
  {
   "cell_type": "code",
   "execution_count": 12,
   "metadata": {},
   "outputs": [],
   "source": [
    "# 거래일자, 고객 중분류 검색하면 딕셔너리 만드는 코드\n",
    "# 여기에는 함수만 올림\n",
    "def filter_date(df, date):\n",
    "    if '기준일자' in df.columns:\n",
    "        return df[df['기준일자'] == date]\n",
    "    elif '거래일자' in df.columns:\n",
    "        return df[df['거래일자'] == date]\n",
    "\n",
    "def filter_code(df, ticker_code):\n",
    "    if '티커종목코드' in df.columns:\n",
    "        return df[df['티커종목코드'] == ticker_code]\n",
    "    elif '대상ETF티커' in df.columns:\n",
    "        return df[df['대상ETF티커'] == ticker_code]\n",
    "\n",
    "def filter_bigConstraint(df, big_constraint):\n",
    "    return df[df['고객구성대분류코드'] == big_constraint]\n",
    "\n",
    "# 날짜, 고객 별로 ETF를 얼마나 갖고 있는지 저장할 dictionary\n",
    "# 이름을 뭐로 해야할지 모르겠어서 name_mijung ㅋㅋ\n",
    "name_mijung = {}\n",
    "\n",
    "def add_or_concat(key, new_data):\n",
    "    # 데이터프레임 생성 (new_data는 새로운 row을 담은 DataFrame)\n",
    "    new_df = pd.DataFrame(new_data)\n",
    "\n",
    "    # 해당 key에 데이터프레임이 없는 경우, 새로운 데이터프레임 추가\n",
    "    if key not in name_mijung:\n",
    "        name_mijung[key] = new_df\n",
    "    else:\n",
    "        # 이미 데이터프레임이 있다면, pd.concat으로 row 추가\n",
    "        name_mijung[key] = pd.concat([name_mijung[key], new_df])\n",
    "\n",
    "def calculate_actual_numbers(고객보유정보, 주식일별정보, date, ticker_code, big_constraint):\n",
    "    filtered_stock_info = filter_date((filter_code(주식일별정보, ticker_code)), date)\n",
    "    rowIndex_stock_info = filtered_stock_info.index[0]\n",
    "    filtered_customer_info = filter_bigConstraint(filter_date((filter_code(고객보유정보, ticker_code)), date), big_constraint)\n",
    "    for rowIndex in filtered_customer_info.index:\n",
    "        accounts = filtered_customer_info.loc[rowIndex, \"고객구성계좌수비율\"] * filtered_stock_info.loc[rowIndex_stock_info, \"총보유계좌수\"]\n",
    "        stocks = filtered_customer_info.loc[rowIndex, \"고객구성투자비율\"] * filtered_stock_info.loc[rowIndex_stock_info, \"총보유수량\"]\n",
    "        dont_know_proper_name = pd.DataFrame({\"보유고객계좌수\":[accounts], \"보유고객주식수\":[stocks]}, index=[ticker_code])\n",
    "        add_or_concat((date, filtered_customer_info.loc[rowIndex, \"고객구성중분류코드\"]), dont_know_proper_name)"
   ]
  },
  {
   "cell_type": "code",
   "execution_count": null,
   "metadata": {},
   "outputs": [],
   "source": [
    "# #이거 돌리면 위에서 저장한 name_mijung이라는 딕셔너리가 만들어짐\n",
    "# tickerCode = list(주식일별정보['티커종목코드'].unique())\n",
    "# for tC in tickerCode:\n",
    "# # tC = tickerCode[189]\n",
    "#     imsi = 주식일별정보[주식일별정보['티커종목코드'] == tC]\n",
    "#     ETF_dates = list(imsi['거래일자'].unique())\n",
    "#     for date in ETF_dates:\n",
    "#         for i in range(1,4): #고객 대분류 번호가 1, 2, 3\n",
    "#             calculate_actual_numbers(고객보유정보, 주식일별정보, date, tC, i)\n",
    "#             print(f\"{date}, {tC}, 대분류 :{i}\")\n",
    "\n",
    "# # ETF 하나 당 9.8sec, 우리가 가진 ETF 1277개\n",
    "# # ETA : 3시간 42분 \n",
    "# # 우리 멋쟁이 코드 화이팅 !\n",
    "\n",
    "# # 파일 저장\n",
    "# # folder_path 세팅해주세요\n",
    "# file_path = f\"{folder_path}날짜및고객분류별보유ETF.pkl\"\n",
    "# with open(file_path, 'wb') as f:\n",
    "#     pickle.dump(name_mijung, f)"
   ]
  },
  {
   "cell_type": "code",
   "execution_count": 41,
   "metadata": {},
   "outputs": [],
   "source": [
    "with open('날짜및고객분류별보유ETF.pkl', 'rb') as f:\n",
    "    name_mijung = pickle.load(f)"
   ]
  },
  {
   "cell_type": "code",
   "execution_count": 16,
   "metadata": {},
   "outputs": [
    {
     "data": {
      "text/plain": [
       "dict_keys([(20240726, 11), (20240726, 12), (20240726, 24), (20240726, 22), (20240726, 25), (20240726, 23), (20240726, 21), (20240726, 34), (20240726, 32), (20240726, 31), (20240726, 33), (20240729, 12), (20240729, 11), (20240729, 22), (20240729, 23), (20240729, 24), (20240729, 25), (20240729, 21), (20240729, 33), (20240729, 34), (20240729, 31), (20240729, 32), (20240709, 11), (20240709, 12), (20240709, 22), (20240709, 21), (20240709, 25), (20240709, 23), (20240709, 24), (20240709, 33), (20240709, 34), (20240709, 31), (20240709, 32), (20240802, 11), (20240802, 12), (20240802, 25), (20240802, 22), (20240802, 21), (20240802, 23), (20240802, 24), (20240802, 34), (20240802, 32), (20240802, 31), (20240802, 33), (20240715, 12), (20240715, 11), (20240715, 23), (20240715, 22), (20240715, 21), (20240715, 24), (20240715, 25), (20240715, 34), (20240715, 33), (20240715, 31), (20240715, 32), (20240823, 12), (20240823, 11), (20240823, 22), (20240823, 24), (20240823, 23), (20240823, 25), (20240823, 21), (20240823, 31), (20240823, 33), (20240823, 32), (20240823, 34), (20240724, 12), (20240724, 11), (20240724, 25), (20240724, 24), (20240724, 23), (20240724, 21), (20240724, 22), (20240724, 33), (20240724, 31), (20240724, 34), (20240724, 32), (20240812, 11), (20240812, 12), (20240812, 23), (20240812, 25), (20240812, 24), (20240812, 22), (20240812, 21), (20240812, 32), (20240812, 34), (20240812, 33), (20240812, 31), (20240625, 12), (20240625, 11), (20240625, 25), (20240625, 21), (20240625, 24), (20240625, 23), (20240625, 22), (20240625, 32), (20240625, 33), (20240625, 34), (20240625, 31), (20240704, 12), (20240704, 11), (20240704, 24), (20240704, 23), (20240704, 22), (20240704, 21), (20240704, 25), (20240704, 34), (20240704, 31), (20240704, 32), (20240704, 33), (20240612, 12), (20240612, 11), (20240612, 24), (20240612, 21), (20240612, 22), (20240612, 25), (20240612, 23), (20240612, 33), (20240612, 31), (20240612, 34), (20240612, 32), (20240821, 12), (20240821, 11), (20240821, 25), (20240821, 21), (20240821, 23), (20240821, 22), (20240821, 24), (20240821, 31), (20240821, 33), (20240821, 34), (20240821, 32), (20240805, 11), (20240805, 12), (20240805, 24), (20240805, 22), (20240805, 25), (20240805, 21), (20240805, 23), (20240805, 33), (20240805, 32), (20240805, 31), (20240805, 34), (20240618, 12), (20240618, 11), (20240618, 24), (20240618, 21), (20240618, 23), (20240618, 22), (20240618, 25), (20240618, 31), (20240618, 34), (20240618, 33), (20240618, 32), (20240712, 11), (20240712, 12), (20240712, 22), (20240712, 24), (20240712, 23), (20240712, 21), (20240712, 25), (20240712, 32), (20240712, 34), (20240712, 31), (20240712, 33), (20240628, 12), (20240628, 11), (20240628, 23), (20240628, 24), (20240628, 21), (20240628, 25), (20240628, 22), (20240628, 34), (20240628, 33), (20240628, 32), (20240628, 31), (20240813, 12), (20240813, 11), (20240813, 25), (20240813, 21), (20240813, 23), (20240813, 22), (20240813, 24), (20240813, 31), (20240813, 34), (20240813, 32), (20240813, 33), (20240710, 11), (20240710, 12), (20240710, 22), (20240710, 21), (20240710, 23), (20240710, 24), (20240710, 25), (20240710, 33), (20240710, 32), (20240710, 31), (20240710, 34), (20240530, 11), (20240530, 12), (20240530, 21), (20240530, 24), (20240530, 23), (20240530, 25), (20240530, 22), (20240530, 31), (20240530, 32), (20240530, 34), (20240530, 33), (20240719, 11), (20240719, 12), (20240719, 22), (20240719, 23), (20240719, 21), (20240719, 24), (20240719, 25), (20240719, 34), (20240719, 33), (20240719, 32), (20240719, 31), (20240701, 11), (20240701, 12), (20240701, 23), (20240701, 24), (20240701, 22), (20240701, 21), (20240701, 25), (20240701, 31), (20240701, 32), (20240701, 33), (20240701, 34), (20240607, 11), (20240607, 12), (20240607, 23), (20240607, 25), (20240607, 21), (20240607, 24), (20240607, 22), (20240607, 33), (20240607, 32), (20240607, 31), (20240607, 34), (20240806, 12), (20240806, 11), (20240806, 23), (20240806, 22), (20240806, 24), (20240806, 21), (20240806, 25), (20240806, 32), (20240806, 34), (20240806, 33), (20240806, 31), (20240820, 11), (20240820, 12), (20240820, 23), (20240820, 25), (20240820, 22), (20240820, 21), (20240820, 24), (20240820, 31), (20240820, 32), (20240820, 34), (20240820, 33), (20240716, 12), (20240716, 11), (20240716, 24), (20240716, 21), (20240716, 23), (20240716, 22), (20240716, 25), (20240716, 31), (20240716, 32), (20240716, 34), (20240716, 33), (20240703, 12), (20240703, 11), (20240703, 23), (20240703, 21), (20240703, 24), (20240703, 25), (20240703, 22), (20240703, 32), (20240703, 31), (20240703, 33), (20240703, 34), (20240808, 12), (20240808, 11), (20240808, 23), (20240808, 22), (20240808, 21), (20240808, 24), (20240808, 25), (20240808, 32), (20240808, 34), (20240808, 31), (20240808, 33), (20240826, 12), (20240826, 11), (20240826, 24), (20240826, 22), (20240826, 21), (20240826, 23), (20240826, 25), (20240826, 34), (20240826, 32), (20240826, 31), (20240826, 33), (20240613, 12), (20240613, 11), (20240613, 23), (20240613, 24), (20240613, 21), (20240613, 25), (20240613, 22), (20240613, 34), (20240613, 31), (20240613, 32), (20240613, 33), (20240723, 11), (20240723, 12), (20240723, 24), (20240723, 23), (20240723, 21), (20240723, 22), (20240723, 25), (20240723, 31), (20240723, 33), (20240723, 32), (20240723, 34), (20240705, 12), (20240705, 11), (20240705, 23), (20240705, 24), (20240705, 22), (20240705, 21), (20240705, 25), (20240705, 32), (20240705, 31), (20240705, 34), (20240705, 33), (20240528, 11), (20240528, 12), (20240528, 22), (20240528, 21), (20240528, 23), (20240528, 25), (20240528, 24), (20240528, 32), (20240528, 31), (20240528, 34), (20240528, 33), (20240605, 11), (20240605, 12), (20240605, 24), (20240605, 21), (20240605, 23), (20240605, 25), (20240605, 22), (20240605, 32), (20240605, 33), (20240605, 31), (20240605, 34), (20240731, 12), (20240731, 11), (20240731, 22), (20240731, 24), (20240731, 23), (20240731, 25), (20240731, 21), (20240731, 32), (20240731, 34), (20240731, 31), (20240731, 33), (20240718, 11), (20240718, 12), (20240718, 22), (20240718, 24), (20240718, 23), (20240718, 25), (20240718, 21), (20240718, 34), (20240718, 32), (20240718, 31), (20240718, 33), (20240611, 11), (20240611, 12), (20240611, 22), (20240611, 23), (20240611, 25), (20240611, 21), (20240611, 24), (20240611, 32), (20240611, 34), (20240611, 33), (20240611, 31), (20240529, 11), (20240529, 12), (20240529, 23), (20240529, 22), (20240529, 25), (20240529, 24), (20240529, 21), (20240529, 31), (20240529, 32), (20240529, 34), (20240529, 33), (20240614, 11), (20240614, 12), (20240614, 22), (20240614, 25), (20240614, 23), (20240614, 21), (20240614, 24), (20240614, 32), (20240614, 31), (20240614, 33), (20240614, 34), (20240702, 11), (20240702, 12), (20240702, 24), (20240702, 21), (20240702, 25), (20240702, 22), (20240702, 23), (20240702, 34), (20240702, 32), (20240702, 31), (20240702, 33), (20240531, 11), (20240531, 12), (20240531, 21), (20240531, 22), (20240531, 24), (20240531, 25), (20240531, 23), (20240531, 33), (20240531, 32), (20240531, 31), (20240531, 34), (20240809, 11), (20240809, 12), (20240809, 23), (20240809, 21), (20240809, 25), (20240809, 24), (20240809, 22), (20240809, 32), (20240809, 33), (20240809, 34), (20240809, 31), (20240717, 11), (20240717, 12), (20240717, 23), (20240717, 22), (20240717, 24), (20240717, 25), (20240717, 21), (20240717, 32), (20240717, 31), (20240717, 33), (20240717, 34), (20240610, 12), (20240610, 11), (20240610, 22), (20240610, 25), (20240610, 23), (20240610, 21), (20240610, 24), (20240610, 33), (20240610, 32), (20240610, 34), (20240610, 31), (20240620, 11), (20240620, 12), (20240620, 23), (20240620, 24), (20240620, 25), (20240620, 22), (20240620, 21), (20240620, 33), (20240620, 32), (20240620, 31), (20240620, 34), (20240603, 12), (20240603, 11), (20240603, 25), (20240603, 23), (20240603, 22), (20240603, 21), (20240603, 24), (20240603, 34), (20240603, 33), (20240603, 31), (20240603, 32), (20240604, 11), (20240604, 12), (20240604, 25), (20240604, 22), (20240604, 23), (20240604, 24), (20240604, 21), (20240604, 34), (20240604, 31), (20240604, 33), (20240604, 32), (20240626, 11), (20240626, 12), (20240626, 21), (20240626, 22), (20240626, 25), (20240626, 23), (20240626, 24), (20240626, 33), (20240626, 34), (20240626, 31), (20240626, 32), (20240627, 11), (20240627, 12), (20240627, 21), (20240627, 23), (20240627, 22), (20240627, 24), (20240627, 25), (20240627, 34), (20240627, 33), (20240627, 32), (20240627, 31), (20240801, 12), (20240801, 11), (20240801, 24), (20240801, 25), (20240801, 21), (20240801, 22), (20240801, 23), (20240801, 32), (20240801, 34), (20240801, 33), (20240801, 31), (20240619, 11), (20240619, 12), (20240619, 21), (20240619, 25), (20240619, 23), (20240619, 24), (20240619, 22), (20240619, 33), (20240619, 32), (20240619, 31), (20240619, 34), (20240807, 11), (20240807, 12), (20240807, 24), (20240807, 22), (20240807, 25), (20240807, 23), (20240807, 21), (20240807, 34), (20240807, 32), (20240807, 31), (20240807, 33), (20240814, 11), (20240814, 12), (20240814, 24), (20240814, 25), (20240814, 23), (20240814, 22), (20240814, 21), (20240814, 31), (20240814, 34), (20240814, 32), (20240814, 33), (20240722, 11), (20240722, 12), (20240722, 22), (20240722, 23), (20240722, 24), (20240722, 25), (20240722, 21), (20240722, 31), (20240722, 34), (20240722, 33), (20240722, 32), (20240730, 12), (20240730, 11), (20240730, 22), (20240730, 25), (20240730, 24), (20240730, 21), (20240730, 23), (20240730, 34), (20240730, 31), (20240730, 32), (20240730, 33), (20240624, 11), (20240624, 12), (20240624, 23), (20240624, 21), (20240624, 22), (20240624, 24), (20240624, 25), (20240624, 31), (20240624, 32), (20240624, 34), (20240624, 33), (20240708, 11), (20240708, 12), (20240708, 23), (20240708, 24), (20240708, 25), (20240708, 21), (20240708, 22), (20240708, 32), (20240708, 31), (20240708, 33), (20240708, 34), (20240725, 11), (20240725, 12), (20240725, 22), (20240725, 25), (20240725, 24), (20240725, 23), (20240725, 21), (20240725, 31), (20240725, 34), (20240725, 32), (20240725, 33), (20240617, 11), (20240617, 12), (20240617, 24), (20240617, 23), (20240617, 22), (20240617, 25), (20240617, 21), (20240617, 31), (20240617, 32), (20240617, 33), (20240617, 34), (20240819, 12), (20240819, 11), (20240819, 22), (20240819, 25), (20240819, 24), (20240819, 23), (20240819, 21), (20240819, 33), (20240819, 31), (20240819, 32), (20240819, 34), (20240711, 11), (20240711, 12), (20240711, 23), (20240711, 22), (20240711, 21), (20240711, 25), (20240711, 24), (20240711, 34), (20240711, 32), (20240711, 33), (20240711, 31), (20240621, 11), (20240621, 12), (20240621, 21), (20240621, 22), (20240621, 23), (20240621, 24), (20240621, 25), (20240621, 33), (20240621, 31), (20240621, 32), (20240621, 34), (20240816, 11), (20240816, 12), (20240816, 25), (20240816, 22), (20240816, 23), (20240816, 24), (20240816, 21), (20240816, 33), (20240816, 32), (20240816, 34), (20240816, 31), (20240822, 11), (20240822, 12), (20240822, 22), (20240822, 23), (20240822, 24), (20240822, 21), (20240822, 25), (20240822, 31), (20240822, 33), (20240822, 32), (20240822, 34)])"
      ]
     },
     "execution_count": 16,
     "metadata": {},
     "output_type": "execute_result"
    }
   ],
   "source": [
    "name_mijung.keys()"
   ]
  },
  {
   "cell_type": "code",
   "execution_count": null,
   "metadata": {},
   "outputs": [],
   "source": [
    "name_mijung[(20240726, 11)]"
   ]
  },
  {
   "cell_type": "markdown",
   "metadata": {},
   "source": [
    "# ETF 테이블 만들기"
   ]
  },
  {
   "cell_type": "markdown",
   "metadata": {},
   "source": [
    "## ETF 관련 EDA"
   ]
  },
  {
   "cell_type": "code",
   "execution_count": 149,
   "metadata": {},
   "outputs": [
    {
     "data": {
      "text/plain": [
       "Index(['거래일자', '대상ETF티커', '1개월총수익율', '3개월총수익율', '1년총수익율', 'ETF점수', 'ETFZ점수',\n",
       "       'Z점수순위', '누적수익율Z점수', '정보비율Z점수', '샤프지수Z점수', '상관관계Z점수', '트래킹에러Z점수',\n",
       "       '최대낙폭Z점수', '변동성Z점수'],\n",
       "      dtype='object')"
      ]
     },
     "execution_count": 149,
     "metadata": {},
     "output_type": "execute_result"
    }
   ],
   "source": [
    "ETF점수정보.columns"
   ]
  },
  {
   "cell_type": "code",
   "execution_count": null,
   "metadata": {},
   "outputs": [],
   "source": [
    "ETF해외종목정보 = 해외종목정보[해외종목정보[\"주식/ETF구분코드\"] == \"ETF\"]"
   ]
  },
  {
   "cell_type": "code",
   "execution_count": 241,
   "metadata": {},
   "outputs": [
    {
     "name": "stdout",
     "output_type": "stream",
     "text": [
      "(1277,)\n",
      "(167,)\n"
     ]
    },
    {
     "data": {
      "text/plain": [
       "152"
      ]
     },
     "execution_count": 241,
     "metadata": {},
     "output_type": "execute_result"
    }
   ],
   "source": [
    "print(주식일별정보[\"티커종목코드\"].unique().shape)\n",
    "print(ETF해외종목정보[\"티커종목코드\"].unique().shape)\n",
    "np.isin(주식일별정보[\"티커종목코드\"].unique(), ETF해외종목정보[\"티커종목코드\"].unique()).sum()\n",
    "\n",
    "# 일부 존재 안함 (주식일별정보가 NH데이터 기반이니까 정보가 없는듯?)"
   ]
  },
  {
   "cell_type": "code",
   "execution_count": 136,
   "metadata": {},
   "outputs": [
    {
     "name": "stdout",
     "output_type": "stream",
     "text": [
      "(3094,)\n",
      "(167,)\n"
     ]
    },
    {
     "data": {
      "text/plain": [
       "167"
      ]
     },
     "execution_count": 136,
     "metadata": {},
     "output_type": "execute_result"
    }
   ],
   "source": [
    "print(종목일자별시세[\"티커종목코드\"].unique().shape)\n",
    "print(ETF해외종목정보[\"티커종목코드\"].unique().shape)\n",
    "np.isin(종목일자별시세[\"티커종목코드\"].unique(), ETF해외종목정보[\"티커종목코드\"].unique()).sum()\n",
    "\n",
    "# 전부 존재"
   ]
  },
  {
   "cell_type": "code",
   "execution_count": 143,
   "metadata": {},
   "outputs": [
    {
     "name": "stdout",
     "output_type": "stream",
     "text": [
      "(167,)\n",
      "(122,)\n"
     ]
    },
    {
     "data": {
      "text/plain": [
       "122"
      ]
     },
     "execution_count": 143,
     "metadata": {},
     "output_type": "execute_result"
    }
   ],
   "source": [
    "print(ETF해외종목정보[\"티커종목코드\"].unique().shape)\n",
    "print(ETF구성종목정보[\"대상ETF티커\"].unique().shape)\n",
    "np.isin(ETF해외종목정보[\"티커종목코드\"].unique(), ETF구성종목정보[\"대상ETF티커\"].unique()).sum()\n",
    "\n",
    "# 전부 존재"
   ]
  },
  {
   "cell_type": "code",
   "execution_count": 148,
   "metadata": {},
   "outputs": [
    {
     "name": "stdout",
     "output_type": "stream",
     "text": [
      "(1631,)\n",
      "(122,)\n"
     ]
    },
    {
     "data": {
      "text/plain": [
       "113"
      ]
     },
     "execution_count": 148,
     "metadata": {},
     "output_type": "execute_result"
    }
   ],
   "source": [
    "print(ETF배당내역[\"대상ETF티커\"].unique().shape)\n",
    "print(ETF구성종목정보[\"대상ETF티커\"].unique().shape)\n",
    "np.isin(ETF배당내역[\"대상ETF티커\"].unique(), ETF구성종목정보[\"대상ETF티커\"].unique()).sum()\n",
    "\n",
    "# 전부 존재하지는 않음 (새로 생겨서 배당이 없나??, 또는 없어졌나??)"
   ]
  },
  {
   "cell_type": "code",
   "execution_count": 164,
   "metadata": {},
   "outputs": [
    {
     "name": "stdout",
     "output_type": "stream",
     "text": [
      "(1631,)\n",
      "(55,)\n"
     ]
    },
    {
     "data": {
      "text/plain": [
       "54"
      ]
     },
     "execution_count": 164,
     "metadata": {},
     "output_type": "execute_result"
    }
   ],
   "source": [
    "print(ETF배당내역[\"대상ETF티커\"].unique().shape)\n",
    "print(ETF점수정보[\"대상ETF티커\"].unique().shape)\n",
    "np.isin(ETF배당내역[\"대상ETF티커\"].unique(), ETF점수정보[\"대상ETF티커\"].unique()).sum()\n",
    "\n"
   ]
  },
  {
   "cell_type": "code",
   "execution_count": 171,
   "metadata": {},
   "outputs": [
    {
     "data": {
      "text/plain": [
       "array(['MSOS'], dtype=object)"
      ]
     },
     "execution_count": 171,
     "metadata": {},
     "output_type": "execute_result"
    }
   ],
   "source": [
    "bool_array = np.isin(ETF점수정보[\"대상ETF티커\"].unique(), ETF배당내역[\"대상ETF티커\"].unique())\n",
    "ETF점수정보[\"대상ETF티커\"].unique()[np.where(~bool_array)[0]]\n",
    "\n",
    "# 1개 ETF 없어진게 아니라 배당날짜가 21년이라 없는 것"
   ]
  },
  {
   "cell_type": "code",
   "execution_count": 167,
   "metadata": {},
   "outputs": [
    {
     "name": "stdout",
     "output_type": "stream",
     "text": [
      "(122,)\n",
      "(55,)\n"
     ]
    },
    {
     "data": {
      "text/plain": [
       "42"
      ]
     },
     "execution_count": 167,
     "metadata": {},
     "output_type": "execute_result"
    }
   ],
   "source": [
    "print(ETF구성종목정보[\"대상ETF티커\"].unique().shape)\n",
    "print(ETF점수정보[\"대상ETF티커\"].unique().shape)\n",
    "np.isin(ETF구성종목정보[\"대상ETF티커\"].unique(), ETF점수정보[\"대상ETF티커\"].unique()).sum()"
   ]
  },
  {
   "cell_type": "code",
   "execution_count": 173,
   "metadata": {},
   "outputs": [
    {
     "data": {
      "text/plain": [
       "array(['AIYY', 'IJR', 'KRE', 'MSOS', 'NVDY', 'EETH', 'FBY', 'AMZY',\n",
       "       'APLY', 'GOOY', 'IJH', 'OARK', 'TSLY'], dtype=object)"
      ]
     },
     "execution_count": 173,
     "metadata": {},
     "output_type": "execute_result"
    }
   ],
   "source": [
    "bool_array = np.isin(ETF점수정보[\"대상ETF티커\"].unique(), ETF구성종목정보[\"대상ETF티커\"].unique())\n",
    "ETF점수정보[\"대상ETF티커\"].unique()[np.where(~bool_array)[0]]\n",
    "\n",
    "# 왜 없는지 모르겠음"
   ]
  },
  {
   "cell_type": "code",
   "execution_count": 177,
   "metadata": {},
   "outputs": [
    {
     "data": {
      "text/plain": [
       "Index(['대상ETF티커', 'ETF개별구성종목티커', '보유종목의가치(USD)', '보유종목의영문명', '보유종목의한글명',\n",
       "       '보유종목의주수(주)', '보유종목의비중(%)',\n",
       "       '보유종목의타입(ST:주식,EF:ETF,EN:ETN,SSEF:Single-StockETF)'],\n",
       "      dtype='object')"
      ]
     },
     "execution_count": 177,
     "metadata": {},
     "output_type": "execute_result"
    }
   ],
   "source": [
    "ETF구성종목정보.columns"
   ]
  },
  {
   "cell_type": "markdown",
   "metadata": {},
   "source": [
    "## ETF 테이블 생성"
   ]
  },
  {
   "cell_type": "code",
   "execution_count": null,
   "metadata": {},
   "outputs": [],
   "source": [
    "# ETF해외종목정보[[\"티커종목코드\", \"외화증권한글명\", \"외화증권영문명\"]] # 167\n",
    "# 종목일자별시세[[\"거래일자\", \"티커종목코드\", \"전일대비증감율\"]] # 167 이상\n",
    "# 주식일별정보[[\"거래일자\", \"티커종목코드\", \"당사평균매입단가\", \"당사평균보유기간일수\", \"관심종목등록건수\", \"종목조회건수\"]] # 152 (NH니까)\n",
    "# # ETF배당내역\n",
    "# # ETF구성종목정보\n",
    "# ETF점수정보 # 55"
   ]
  },
  {
   "cell_type": "code",
   "execution_count": 19,
   "metadata": {},
   "outputs": [],
   "source": [
    "ETF해외종목정보 = 해외종목정보[해외종목정보[\"주식/ETF구분코드\"] == \"ETF\"]"
   ]
  },
  {
   "cell_type": "code",
   "execution_count": 20,
   "metadata": {},
   "outputs": [
    {
     "data": {
      "text/plain": [
       "(152,)"
      ]
     },
     "execution_count": 20,
     "metadata": {},
     "output_type": "execute_result"
    }
   ],
   "source": [
    "# NH에 맞추기 위해 주식일별정보를 base로 사용\n",
    "etf_df = 주식일별정보.copy()\n",
    "etf_df = etf_df[np.isin(etf_df[\"티커종목코드\"], ETF해외종목정보[\"티커종목코드\"])]\n",
    "etf_df['티커종목코드'].unique().shape"
   ]
  },
  {
   "cell_type": "code",
   "execution_count": 21,
   "metadata": {},
   "outputs": [
    {
     "name": "stdout",
     "output_type": "stream",
     "text": [
      "<class 'pandas.core.frame.DataFrame'>\n",
      "RangeIndex: 9728 entries, 0 to 9727\n",
      "Data columns (total 23 columns):\n",
      " #   Column       Non-Null Count  Dtype  \n",
      "---  ------       --------------  -----  \n",
      " 0   티커종목코드       9728 non-null   object \n",
      " 1   외화증권영문명      9728 non-null   object \n",
      " 2   거래일자         9728 non-null   int64  \n",
      " 3   총보유계좌수       9728 non-null   int64  \n",
      " 4   총보유수량        9728 non-null   int64  \n",
      " 5   당사평균보유수량     9728 non-null   float64\n",
      " 6   당사평균보유비중비율   9728 non-null   float64\n",
      " 7   당사평균평가손익     9728 non-null   float64\n",
      " 8   당사평균매입단가     9728 non-null   float64\n",
      " 9   당사평균수익율      9728 non-null   float64\n",
      " 10  당사평균보유기간일수   9728 non-null   float64\n",
      " 11  분포상위10퍼센트수치  9728 non-null   float64\n",
      " 12  분포상위30퍼센트수치  9728 non-null   float64\n",
      " 13  분포상위50퍼센트수치  9728 non-null   float64\n",
      " 14  분포상위70퍼센트수치  9728 non-null   float64\n",
      " 15  분포상위90퍼센트수치  9728 non-null   float64\n",
      " 16  기준종가         9728 non-null   float64\n",
      " 17  손실투자자비율      9728 non-null   float64\n",
      " 18  수익투자자비율      9728 non-null   float64\n",
      " 19  신규매수계좌수      9728 non-null   int64  \n",
      " 20  전량매도계좌수      9728 non-null   int64  \n",
      " 21  종목조회건수       9728 non-null   int64  \n",
      " 22  관심종목등록건수     9728 non-null   int64  \n",
      "dtypes: float64(14), int64(7), object(2)\n",
      "memory usage: 1.7+ MB\n",
      "None\n"
     ]
    }
   ],
   "source": [
    "# 주식일별정보 + ETF해외종목정보\n",
    "etf_df = pd.merge(etf_df, ETF해외종목정보[[\"티커종목코드\", \"외화증권영문명\"]], on='티커종목코드', how='left')\n",
    "first_cols = [\"티커종목코드\", \"외화증권영문명\", \"거래일자\"]\n",
    "other_cols = [col for col in etf_df.columns if col not in first_cols]\n",
    "etf_df = etf_df[first_cols + other_cols]\n",
    "# etf_df = etf_df[[\"티커종목코드\", \"외화증권영문명\", \"거래일자\", \"당사평균매입단가\", \"당사평균보유기간일수\", \"관심종목등록건수\", \"종목조회건수\"]]\n",
    "print(etf_df.info())\n",
    "etf_df = etf_df.sort_values(by=[\"티커종목코드\", '거래일자'])"
   ]
  },
  {
   "cell_type": "code",
   "execution_count": 23,
   "metadata": {},
   "outputs": [
    {
     "name": "stdout",
     "output_type": "stream",
     "text": [
      "<class 'pandas.core.frame.DataFrame'>\n",
      "RangeIndex: 9728 entries, 0 to 9727\n",
      "Data columns (total 29 columns):\n",
      " #   Column       Non-Null Count  Dtype  \n",
      "---  ------       --------------  -----  \n",
      " 0   티커종목코드       9728 non-null   object \n",
      " 1   외화증권영문명      9728 non-null   object \n",
      " 2   거래일자         9728 non-null   int64  \n",
      " 3   총보유계좌수       9728 non-null   int64  \n",
      " 4   총보유수량        9728 non-null   int64  \n",
      " 5   당사평균보유수량     9728 non-null   float64\n",
      " 6   당사평균보유비중비율   9728 non-null   float64\n",
      " 7   당사평균평가손익     9728 non-null   float64\n",
      " 8   당사평균매입단가     9728 non-null   float64\n",
      " 9   당사평균수익율      9728 non-null   float64\n",
      " 10  당사평균보유기간일수   9728 non-null   float64\n",
      " 11  분포상위10퍼센트수치  9728 non-null   float64\n",
      " 12  분포상위30퍼센트수치  9728 non-null   float64\n",
      " 13  분포상위50퍼센트수치  9728 non-null   float64\n",
      " 14  분포상위70퍼센트수치  9728 non-null   float64\n",
      " 15  분포상위90퍼센트수치  9728 non-null   float64\n",
      " 16  기준종가         9728 non-null   float64\n",
      " 17  손실투자자비율      9728 non-null   float64\n",
      " 18  수익투자자비율      9728 non-null   float64\n",
      " 19  신규매수계좌수      9728 non-null   int64  \n",
      " 20  전량매도계좌수      9728 non-null   int64  \n",
      " 21  종목조회건수       9728 non-null   int64  \n",
      " 22  관심종목등록건수     9728 non-null   int64  \n",
      " 23  종목종가         9258 non-null   float64\n",
      " 24  전일대비증감율      9258 non-null   float64\n",
      " 25  누적거래수량       9258 non-null   float64\n",
      " 26  거래대금         9258 non-null   float64\n",
      " 27  매도체결합계수량     9258 non-null   float64\n",
      " 28  매수체결합계수량     9258 non-null   float64\n",
      "dtypes: float64(20), int64(7), object(2)\n",
      "memory usage: 2.2+ MB\n",
      "None\n"
     ]
    }
   ],
   "source": [
    "# + 종목일자별시세\n",
    "etf_df = pd.merge(etf_df, 종목일자별시세[[\"거래일자\", \"티커종목코드\", \"종목종가\", \"전일대비증감율\", \"누적거래수량\", \"거래대금\", \"매도체결합계수량\", \"매수체결합계수량\"]], on=['티커종목코드', '거래일자'], how='left')\n",
    "print(etf_df.info()) # null : 470"
   ]
  },
  {
   "cell_type": "code",
   "execution_count": 24,
   "metadata": {},
   "outputs": [
    {
     "name": "stdout",
     "output_type": "stream",
     "text": [
      "<class 'pandas.core.frame.DataFrame'>\n",
      "RangeIndex: 9728 entries, 0 to 9727\n",
      "Data columns (total 43 columns):\n",
      " #   Column       Non-Null Count  Dtype  \n",
      "---  ------       --------------  -----  \n",
      " 0   티커종목코드       9728 non-null   object \n",
      " 1   외화증권영문명      9728 non-null   object \n",
      " 2   거래일자         9728 non-null   int64  \n",
      " 3   총보유계좌수       9728 non-null   int64  \n",
      " 4   총보유수량        9728 non-null   int64  \n",
      " 5   당사평균보유수량     9728 non-null   float64\n",
      " 6   당사평균보유비중비율   9728 non-null   float64\n",
      " 7   당사평균평가손익     9728 non-null   float64\n",
      " 8   당사평균매입단가     9728 non-null   float64\n",
      " 9   당사평균수익율      9728 non-null   float64\n",
      " 10  당사평균보유기간일수   9728 non-null   float64\n",
      " 11  분포상위10퍼센트수치  9728 non-null   float64\n",
      " 12  분포상위30퍼센트수치  9728 non-null   float64\n",
      " 13  분포상위50퍼센트수치  9728 non-null   float64\n",
      " 14  분포상위70퍼센트수치  9728 non-null   float64\n",
      " 15  분포상위90퍼센트수치  9728 non-null   float64\n",
      " 16  기준종가         9728 non-null   float64\n",
      " 17  손실투자자비율      9728 non-null   float64\n",
      " 18  수익투자자비율      9728 non-null   float64\n",
      " 19  신규매수계좌수      9728 non-null   int64  \n",
      " 20  전량매도계좌수      9728 non-null   int64  \n",
      " 21  종목조회건수       9728 non-null   int64  \n",
      " 22  관심종목등록건수     9728 non-null   int64  \n",
      " 23  종목종가         9258 non-null   float64\n",
      " 24  전일대비증감율      9258 non-null   float64\n",
      " 25  누적거래수량       9258 non-null   float64\n",
      " 26  거래대금         9258 non-null   float64\n",
      " 27  매도체결합계수량     9258 non-null   float64\n",
      " 28  매수체결합계수량     9258 non-null   float64\n",
      " 29  대상ETF티커      3406 non-null   object \n",
      " 30  1개월총수익율      3406 non-null   float64\n",
      " 31  3개월총수익율      3406 non-null   float64\n",
      " 32  1년총수익율       3406 non-null   float64\n",
      " 33  ETF점수        3406 non-null   float64\n",
      " 34  ETFZ점수       3406 non-null   float64\n",
      " 35  Z점수순위        3406 non-null   float64\n",
      " 36  누적수익율Z점수     3406 non-null   float64\n",
      " 37  정보비율Z점수      3406 non-null   float64\n",
      " 38  샤프지수Z점수      3406 non-null   float64\n",
      " 39  상관관계Z점수      3406 non-null   float64\n",
      " 40  트래킹에러Z점수     3406 non-null   float64\n",
      " 41  최대낙폭Z점수      3406 non-null   float64\n",
      " 42  변동성Z점수       3406 non-null   float64\n",
      "dtypes: float64(33), int64(7), object(3)\n",
      "memory usage: 3.2+ MB\n",
      "None\n"
     ]
    }
   ],
   "source": [
    "# + ETF점수정보\n",
    "etf_df = pd.merge(etf_df, ETF점수정보, left_on=['티커종목코드', '거래일자'], right_on=['대상ETF티커', '거래일자'], how='left')\n",
    "print(etf_df.info())"
   ]
  },
  {
   "cell_type": "code",
   "execution_count": 25,
   "metadata": {},
   "outputs": [],
   "source": [
    "df = etf_df.set_index(['티커종목코드', '거래일자'])"
   ]
  },
  {
   "cell_type": "code",
   "execution_count": null,
   "metadata": {},
   "outputs": [],
   "source": [
    "df"
   ]
  },
  {
   "cell_type": "code",
   "execution_count": null,
   "metadata": {},
   "outputs": [],
   "source": [
    "df.loc[('SPY', 20240528)]"
   ]
  }
 ],
 "metadata": {
  "kernelspec": {
   "display_name": "recsys",
   "language": "python",
   "name": "python3"
  },
  "language_info": {
   "codemirror_mode": {
    "name": "ipython",
    "version": 3
   },
   "file_extension": ".py",
   "mimetype": "text/x-python",
   "name": "python",
   "nbconvert_exporter": "python",
   "pygments_lexer": "ipython3",
   "version": "3.11.5"
  }
 },
 "nbformat": 4,
 "nbformat_minor": 2
}
