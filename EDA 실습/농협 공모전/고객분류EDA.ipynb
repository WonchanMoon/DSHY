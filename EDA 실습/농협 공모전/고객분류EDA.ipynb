{
 "cells": [
  {
   "cell_type": "code",
   "execution_count": 1,
   "metadata": {},
   "outputs": [],
   "source": [
    "import pandas as pd\n",
    "import numpy as np\n",
    "import matplotlib.pyplot as plt\n",
    "import seaborn as sns\n",
    "import os"
   ]
  },
  {
   "cell_type": "code",
   "execution_count": 2,
   "metadata": {},
   "outputs": [
    {
     "name": "stdout",
     "output_type": "stream",
     "text": [
      "현재 디렉토리: c:\\Users\\howsr\\workspace\\DSHY_main\\DSHY\\EDA 실습\\농협 공모전\n",
      "3개 위의 디렉토리: c:\\Users\\howsr\\workspace\\DSHY_main\n",
      "데이터 경로: c:\\Users\\howsr\\workspace\\DSHY_main\\ETF_data\n"
     ]
    }
   ],
   "source": [
    "# 현재 작업 디렉토리 가져오기\n",
    "current_directory = os.getcwd()\n",
    "print(\"현재 디렉토리:\", current_directory)\n",
    "\n",
    "# 3개 위의 폴더 찾기\n",
    "three_levels_up = os.path.dirname(os.path.dirname(os.path.dirname(current_directory)))\n",
    "print(\"3개 위의 디렉토리:\", three_levels_up)\n",
    "\n",
    "# 3개 위의 폴더 찾기\n",
    "data_path = os.path.join(three_levels_up,'ETF_data')\n",
    "print(\"데이터 경로:\", data_path)"
   ]
  },
  {
   "cell_type": "code",
   "execution_count": 3,
   "metadata": {},
   "outputs": [
    {
     "name": "stdout",
     "output_type": "stream",
     "text": [
      "현재 작업 디렉토리: c:\\Users\\howsr\\workspace\\DSHY_main\\DSHY\\EDA 실습\\농협 공모전\n",
      "변경된 작업 디렉토리: c:\\Users\\howsr\\workspace\\DSHY_main\\ETF_data\n"
     ]
    }
   ],
   "source": [
    "# 현재 작업 디렉토리 확인\n",
    "print(\"현재 작업 디렉토리:\", os.getcwd())\n",
    "\n",
    "# 새로운 디렉토리로 변경\n",
    "os.chdir(data_path)\n",
    "\n",
    "# 변경된 작업 디렉토리 확인\n",
    "print(\"변경된 작업 디렉토리:\", os.getcwd())"
   ]
  },
  {
   "cell_type": "code",
   "execution_count": null,
   "metadata": {},
   "outputs": [],
   "source": [
    "#날짜및고객분류별"
   ]
  }
 ],
 "metadata": {
  "kernelspec": {
   "display_name": "Python 3",
   "language": "python",
   "name": "python3"
  },
  "language_info": {
   "codemirror_mode": {
    "name": "ipython",
    "version": 3
   },
   "file_extension": ".py",
   "mimetype": "text/x-python",
   "name": "python",
   "nbconvert_exporter": "python",
   "pygments_lexer": "ipython3",
   "version": "3.12.1"
  }
 },
 "nbformat": 4,
 "nbformat_minor": 2
}
