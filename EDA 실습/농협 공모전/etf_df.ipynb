{
 "cells": [
  {
   "cell_type": "code",
   "execution_count": 2,
   "metadata": {},
   "outputs": [],
   "source": [
    "import pandas as pd\n",
    "import numpy as np\n",
    "import matplotlib.pyplot as plt\n",
    "import seaborn as sns\n",
    "import os"
   ]
  },
  {
   "cell_type": "code",
   "execution_count": 4,
   "metadata": {},
   "outputs": [
    {
     "name": "stdout",
     "output_type": "stream",
     "text": [
      "현재 디렉토리: c:\\Users\\howsr\\workspace\\DSHY_main\\DSHY\\EDA 실습\\농협 공모전\n",
      "3개 위의 디렉토리: c:\\Users\\howsr\\workspace\\DSHY_main\n",
      "데이터 경로: c:\\Users\\howsr\\workspace\\DSHY_main\\ETF_data\n"
     ]
    }
   ],
   "source": [
    "# 현재 작업 디렉토리 가져오기\n",
    "current_directory = os.getcwd()\n",
    "print(\"현재 디렉토리:\", current_directory)\n",
    "\n",
    "# 3개 위의 폴더 찾기\n",
    "three_levels_up = os.path.dirname(os.path.dirname(os.path.dirname(current_directory)))\n",
    "print(\"3개 위의 디렉토리:\", three_levels_up)\n",
    "\n",
    "# 3개 위의 폴더 찾기\n",
    "data_path = os.path.join(three_levels_up,'ETF_data')\n",
    "print(\"데이터 경로:\", data_path)"
   ]
  },
  {
   "cell_type": "code",
   "execution_count": 5,
   "metadata": {},
   "outputs": [
    {
     "name": "stdout",
     "output_type": "stream",
     "text": [
      "현재 작업 디렉토리: c:\\Users\\howsr\\workspace\\DSHY_main\\DSHY\\EDA 실습\\농협 공모전\n",
      "변경된 작업 디렉토리: c:\\Users\\howsr\\workspace\\DSHY_main\\ETF_data\n"
     ]
    }
   ],
   "source": [
    "# 현재 작업 디렉토리 확인\n",
    "print(\"현재 작업 디렉토리:\", os.getcwd())\n",
    "\n",
    "# 새로운 디렉토리로 변경\n",
    "os.chdir(data_path)\n",
    "\n",
    "# 변경된 작업 디렉토리 확인\n",
    "print(\"변경된 작업 디렉토리:\", os.getcwd())"
   ]
  },
  {
   "cell_type": "code",
   "execution_count": 7,
   "metadata": {},
   "outputs": [],
   "source": [
    "etf_df = pd.read_csv('etf_df.csv')"
   ]
  },
  {
   "cell_type": "code",
   "execution_count": 11,
   "metadata": {},
   "outputs": [
    {
     "name": "stdout",
     "output_type": "stream",
     "text": [
      "<class 'pandas.core.frame.DataFrame'>\n",
      "RangeIndex: 9728 entries, 0 to 9727\n",
      "Data columns (total 10 columns):\n",
      " #   Column      Non-Null Count  Dtype  \n",
      "---  ------      --------------  -----  \n",
      " 0   티커종목코드      9728 non-null   object \n",
      " 1   거래일자        9728 non-null   int64  \n",
      " 2   외화증권영문명     9728 non-null   object \n",
      " 3   총보유계좌수      9728 non-null   int64  \n",
      " 4   총보유수량       9728 non-null   int64  \n",
      " 5   당사평균보유수량    9728 non-null   float64\n",
      " 6   당사평균보유비중비율  9728 non-null   float64\n",
      " 7   당사평균평가손익    9728 non-null   float64\n",
      " 8   당사평균매입단가    9728 non-null   float64\n",
      " 9   당사평균수익율     9728 non-null   float64\n",
      "dtypes: float64(5), int64(3), object(2)\n",
      "memory usage: 760.1+ KB\n"
     ]
    }
   ],
   "source": [
    "etf_df.iloc[:,:10].info()"
   ]
  },
  {
   "cell_type": "code",
   "execution_count": 12,
   "metadata": {},
   "outputs": [
    {
     "name": "stdout",
     "output_type": "stream",
     "text": [
      "<class 'pandas.core.frame.DataFrame'>\n",
      "RangeIndex: 9728 entries, 0 to 9727\n",
      "Data columns (total 10 columns):\n",
      " #   Column       Non-Null Count  Dtype  \n",
      "---  ------       --------------  -----  \n",
      " 0   당사평균보유기간일수   9728 non-null   float64\n",
      " 1   분포상위10퍼센트수치  9728 non-null   float64\n",
      " 2   분포상위30퍼센트수치  9728 non-null   float64\n",
      " 3   분포상위50퍼센트수치  9728 non-null   float64\n",
      " 4   분포상위70퍼센트수치  9728 non-null   float64\n",
      " 5   분포상위90퍼센트수치  9728 non-null   float64\n",
      " 6   기준종가         9728 non-null   float64\n",
      " 7   손실투자자비율      9728 non-null   float64\n",
      " 8   수익투자자비율      9728 non-null   float64\n",
      " 9   신규매수계좌수      9728 non-null   int64  \n",
      "dtypes: float64(9), int64(1)\n",
      "memory usage: 760.1 KB\n"
     ]
    }
   ],
   "source": [
    "etf_df.iloc[:,10:20].info()"
   ]
  },
  {
   "cell_type": "code",
   "execution_count": 13,
   "metadata": {},
   "outputs": [
    {
     "name": "stdout",
     "output_type": "stream",
     "text": [
      "<class 'pandas.core.frame.DataFrame'>\n",
      "RangeIndex: 9728 entries, 0 to 9727\n",
      "Data columns (total 10 columns):\n",
      " #   Column    Non-Null Count  Dtype  \n",
      "---  ------    --------------  -----  \n",
      " 0   전량매도계좌수   9728 non-null   int64  \n",
      " 1   종목조회건수    9728 non-null   int64  \n",
      " 2   관심종목등록건수  9728 non-null   int64  \n",
      " 3   종목종가      9258 non-null   float64\n",
      " 4   전일대비증감율   9258 non-null   float64\n",
      " 5   누적거래수량    9258 non-null   float64\n",
      " 6   거래대금      9258 non-null   float64\n",
      " 7   매도체결합계수량  9258 non-null   float64\n",
      " 8   매수체결합계수량  9258 non-null   float64\n",
      " 9   대상ETF티커   3406 non-null   object \n",
      "dtypes: float64(6), int64(3), object(1)\n",
      "memory usage: 760.1+ KB\n"
     ]
    }
   ],
   "source": [
    "etf_df.iloc[:,20:30].info()"
   ]
  },
  {
   "cell_type": "code",
   "execution_count": 14,
   "metadata": {},
   "outputs": [
    {
     "name": "stdout",
     "output_type": "stream",
     "text": [
      "<class 'pandas.core.frame.DataFrame'>\n",
      "RangeIndex: 9728 entries, 0 to 9727\n",
      "Data columns (total 10 columns):\n",
      " #   Column    Non-Null Count  Dtype  \n",
      "---  ------    --------------  -----  \n",
      " 0   1개월총수익율   3406 non-null   float64\n",
      " 1   3개월총수익율   3406 non-null   float64\n",
      " 2   1년총수익율    3406 non-null   float64\n",
      " 3   ETF점수     3406 non-null   float64\n",
      " 4   ETFZ점수    3406 non-null   float64\n",
      " 5   Z점수순위     3406 non-null   float64\n",
      " 6   누적수익율Z점수  3406 non-null   float64\n",
      " 7   정보비율Z점수   3406 non-null   float64\n",
      " 8   샤프지수Z점수   3406 non-null   float64\n",
      " 9   상관관계Z점수   3406 non-null   float64\n",
      "dtypes: float64(10)\n",
      "memory usage: 760.1 KB\n"
     ]
    }
   ],
   "source": [
    "etf_df.iloc[:,30:40].info()"
   ]
  }
 ],
 "metadata": {
  "kernelspec": {
   "display_name": "Python 3",
   "language": "python",
   "name": "python3"
  },
  "language_info": {
   "codemirror_mode": {
    "name": "ipython",
    "version": 3
   },
   "file_extension": ".py",
   "mimetype": "text/x-python",
   "name": "python",
   "nbconvert_exporter": "python",
   "pygments_lexer": "ipython3",
   "version": "3.12.1"
  }
 },
 "nbformat": 4,
 "nbformat_minor": 2
}
